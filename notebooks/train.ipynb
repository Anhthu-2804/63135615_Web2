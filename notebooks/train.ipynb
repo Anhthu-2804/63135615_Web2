{
  "nbformat": 4,
  "nbformat_minor": 0,
  "metadata": {
    "colab": {
      "name": "train.ipynb",
      "provenance": [],
      "gpuType": "T4",
      "include_colab_link": true
    },
    "kernelspec": {
      "name": "python3",
      "display_name": "Python 3"
    },
    "language_info": {
      "name": "python"
    },
    "accelerator": "GPU"
  },
  "cells": [
    {
      "cell_type": "markdown",
      "metadata": {
        "id": "view-in-github",
        "colab_type": "text"
      },
      "source": [
        "<a href=\"https://colab.research.google.com/github/Anhthu-2804/63135615_Web2/blob/main/notebooks/train.ipynb\" target=\"_parent\"><img src=\"https://colab.research.google.com/assets/colab-badge.svg\" alt=\"Open In Colab\"/></a>"
      ]
    },
    {
      "cell_type": "markdown",
      "metadata": {
        "id": "Q55pnAz0iXp0"
      },
      "source": [
        "# Environment"
      ]
    },
    {
      "cell_type": "code",
      "metadata": {
        "id": "TpZwRS0qGpSk"
      },
      "source": [
        "import os\n",
        "import io\n",
        "import requests\n",
        "import zipfile\n",
        "import torch"
      ],
      "execution_count": 1,
      "outputs": []
    },
    {
      "cell_type": "code",
      "metadata": {
        "id": "y53qWpadjTsU",
        "outputId": "7159f7f0-1f4c-4023-f332-9f553f9ff019",
        "colab": {
          "base_uri": "https://localhost:8080/"
        }
      },
      "source": [
        "# clone the git repository and set it as the working directory\n",
        "! git clone https://github.com/martin-marek/parking-space-occupancy\n",
        "os.chdir('parking-space-occupancy')"
      ],
      "execution_count": 2,
      "outputs": [
        {
          "output_type": "stream",
          "name": "stdout",
          "text": [
            "Cloning into 'parking-space-occupancy'...\n",
            "remote: Enumerating objects: 86, done.\u001b[K\n",
            "remote: Counting objects: 100% (4/4), done.\u001b[K\n",
            "remote: Compressing objects: 100% (3/3), done.\u001b[K\n",
            "remote: Total 86 (delta 2), reused 1 (delta 1), pack-reused 82 (from 1)\u001b[K\n",
            "Receiving objects: 100% (86/86), 3.58 MiB | 16.44 MiB/s, done.\n",
            "Resolving deltas: 100% (34/34), done.\n"
          ]
        }
      ]
    },
    {
      "cell_type": "code",
      "metadata": {
        "id": "tPWtVcExICel"
      },
      "source": [
        "# download the dataset\n",
        "if not os.path.exists('dataset/data'):\n",
        "    r = requests.get(\"https://pub-e8bbdcbe8f6243b2a9933704a9b1d8bc.r2.dev/parking%2Frois_gopro.zip\")\n",
        "    z = zipfile.ZipFile(io.BytesIO(r.content))\n",
        "    z.extractall('dataset/data')"
      ],
      "execution_count": 7,
      "outputs": []
    },
    {
      "cell_type": "code",
      "metadata": {
        "id": "_W-TJxl12O7P"
      },
      "source": [
        "# set device\n",
        "device = torch.device('cuda') if torch.cuda.is_available() else torch.device('cpu')"
      ],
      "execution_count": 8,
      "outputs": []
    },
    {
      "cell_type": "code",
      "metadata": {
        "id": "9LhmBQXj3O5w"
      },
      "source": [
        "# import dataset, models, and training utils.\n",
        "from dataset import acpds\n",
        "from utils.engine import train_model\n",
        "from models.rcnn import RCNN\n",
        "from models.faster_rcnn_fpn import FasterRCNN_FPN"
      ],
      "execution_count": 9,
      "outputs": []
    },
    {
      "cell_type": "code",
      "metadata": {
        "id": "ojkcnXc4HKlM"
      },
      "source": [
        "# load dataset\n",
        "train_ds, valid_ds, test_ds = acpds.create_datasets('dataset/data')"
      ],
      "execution_count": 10,
      "outputs": []
    },
    {
      "cell_type": "markdown",
      "source": [],
      "metadata": {
        "id": "fjHGQ0-GY4fd"
      }
    },
    {
      "cell_type": "code",
      "metadata": {
        "id": "NeyNiElD2ahL",
        "outputId": "3dfc1cdf-10f7-4e42-870a-4cf44abed107",
        "colab": {
          "base_uri": "https://localhost:8080/"
        }
      },
      "source": [
        "# train model\n",
        "model = RCNN()\n",
        "out_dir = 'out_dir'\n",
        "train_model(model, train_ds, valid_ds, test_ds, out_dir, device, verbose=True)"
      ],
      "execution_count": null,
      "outputs": [
        {
          "metadata": {
            "tags": null
          },
          "name": "stderr",
          "output_type": "stream",
          "text": [
            "/usr/local/lib/python3.11/dist-packages/torchvision/models/_utils.py:208: UserWarning: The parameter 'pretrained' is deprecated since 0.13 and may be removed in the future, please use 'weights' instead.\n",
            "  warnings.warn(\n",
            "/usr/local/lib/python3.11/dist-packages/torchvision/models/_utils.py:223: UserWarning: Arguments other than a weight enum or `None` for 'weights' are deprecated since 0.13 and may be removed in the future. The current behavior is equivalent to passing `weights=ResNet50_Weights.IMAGENET1K_V1`. You can also use `weights=ResNet50_Weights.DEFAULT` to get the most up-to-date weights.\n",
            "  warnings.warn(msg)\n",
            "Downloading: \"https://download.pytorch.org/models/resnet50-0676ba61.pth\" to /root/.cache/torch/hub/checkpoints/resnet50-0676ba61.pth\n",
            "100%|██████████| 97.8M/97.8M [00:01<00:00, 89.0MB/s]\n"
          ]
        },
        {
          "output_type": "stream",
          "name": "stdout",
          "text": [
            "epoch   1 -- train acc: 0.8384 -- valid acc.: 0.9280 -- 80 sec\n",
            "epoch   2 -- train acc: 0.9322 -- valid acc.: 0.9580 -- 57 sec\n",
            "epoch   3 -- train acc: 0.9385 -- valid acc.: 0.9575 -- 57 sec\n",
            "epoch   4 -- train acc: 0.9532 -- valid acc.: 0.9512 -- 57 sec\n",
            "epoch   5 -- train acc: 0.9592 -- valid acc.: 0.9701 -- 57 sec\n",
            "epoch   6 -- train acc: 0.9637 -- valid acc.: 0.9722 -- 57 sec\n",
            "epoch   7 -- train acc: 0.9679 -- valid acc.: 0.9491 -- 57 sec\n",
            "epoch   8 -- train acc: 0.9621 -- valid acc.: 0.9475 -- 57 sec\n",
            "epoch   9 -- train acc: 0.9740 -- valid acc.: 0.9774 -- 57 sec\n",
            "epoch  10 -- train acc: 0.9758 -- valid acc.: 0.9601 -- 57 sec\n",
            "epoch  11 -- train acc: 0.9737 -- valid acc.: 0.9753 -- 57 sec\n",
            "epoch  12 -- train acc: 0.9689 -- valid acc.: 0.9737 -- 57 sec\n",
            "epoch  13 -- train acc: 0.9793 -- valid acc.: 0.9580 -- 57 sec\n",
            "epoch  14 -- train acc: 0.9783 -- valid acc.: 0.9790 -- 57 sec\n",
            "epoch  15 -- train acc: 0.9800 -- valid acc.: 0.9706 -- 57 sec\n",
            "epoch  16 -- train acc: 0.9790 -- valid acc.: 0.9727 -- 57 sec\n",
            "epoch  17 -- train acc: 0.9832 -- valid acc.: 0.9701 -- 57 sec\n",
            "epoch  18 -- train acc: 0.9799 -- valid acc.: 0.9732 -- 57 sec\n",
            "epoch  19 -- train acc: 0.9792 -- valid acc.: 0.9538 -- 57 sec\n",
            "epoch  20 -- train acc: 0.9786 -- valid acc.: 0.9690 -- 57 sec\n",
            "epoch  21 -- train acc: 0.9773 -- valid acc.: 0.9727 -- 57 sec\n",
            "epoch  22 -- train acc: 0.9837 -- valid acc.: 0.9774 -- 57 sec\n",
            "epoch  23 -- train acc: 0.9774 -- valid acc.: 0.9753 -- 57 sec\n",
            "epoch  24 -- train acc: 0.9807 -- valid acc.: 0.9716 -- 57 sec\n",
            "epoch  25 -- train acc: 0.9904 -- valid acc.: 0.9732 -- 57 sec\n",
            "epoch  26 -- train acc: 0.9866 -- valid acc.: 0.9790 -- 57 sec\n",
            "epoch  27 -- train acc: 0.9883 -- valid acc.: 0.9632 -- 57 sec\n",
            "epoch  28 -- train acc: 0.9879 -- valid acc.: 0.9785 -- 57 sec\n",
            "epoch  29 -- train acc: 0.9881 -- valid acc.: 0.9669 -- 57 sec\n",
            "epoch  30 -- train acc: 0.9860 -- valid acc.: 0.9779 -- 57 sec\n",
            "epoch  31 -- train acc: 0.9884 -- valid acc.: 0.9748 -- 57 sec\n",
            "epoch  32 -- train acc: 0.9864 -- valid acc.: 0.9795 -- 57 sec\n",
            "epoch  33 -- train acc: 0.9901 -- valid acc.: 0.9853 -- 57 sec\n",
            "epoch  34 -- train acc: 0.9888 -- valid acc.: 0.9732 -- 57 sec\n",
            "epoch  35 -- train acc: 0.9726 -- valid acc.: 0.9627 -- 57 sec\n",
            "epoch  36 -- train acc: 0.9862 -- valid acc.: 0.9779 -- 57 sec\n",
            "epoch  37 -- train acc: 0.9938 -- valid acc.: 0.9774 -- 57 sec\n",
            "epoch  38 -- train acc: 0.9921 -- valid acc.: 0.9706 -- 57 sec\n",
            "epoch  39 -- train acc: 0.9867 -- valid acc.: 0.9753 -- 57 sec\n",
            "epoch  40 -- train acc: 0.9893 -- valid acc.: 0.9769 -- 57 sec\n",
            "epoch  41 -- train acc: 0.9889 -- valid acc.: 0.9806 -- 57 sec\n",
            "epoch  42 -- train acc: 0.9932 -- valid acc.: 0.9790 -- 57 sec\n",
            "epoch  43 -- train acc: 0.9922 -- valid acc.: 0.9774 -- 57 sec\n",
            "epoch  44 -- train acc: 0.9908 -- valid acc.: 0.9779 -- 57 sec\n",
            "epoch  45 -- train acc: 0.9872 -- valid acc.: 0.9711 -- 57 sec\n",
            "epoch  46 -- train acc: 0.9899 -- valid acc.: 0.9774 -- 57 sec\n",
            "epoch  47 -- train acc: 0.9931 -- valid acc.: 0.9743 -- 57 sec\n",
            "epoch  48 -- train acc: 0.9897 -- valid acc.: 0.9764 -- 57 sec\n",
            "epoch  49 -- train acc: 0.9960 -- valid acc.: 0.9748 -- 57 sec\n",
            "epoch  50 -- train acc: 0.9894 -- valid acc.: 0.9790 -- 57 sec\n",
            "epoch  51 -- train acc: 0.9949 -- valid acc.: 0.9821 -- 57 sec\n",
            "epoch  52 -- train acc: 0.9963 -- valid acc.: 0.9811 -- 57 sec\n",
            "epoch  53 -- train acc: 0.9974 -- valid acc.: 0.9821 -- 57 sec\n",
            "epoch  54 -- train acc: 0.9985 -- valid acc.: 0.9811 -- 57 sec\n"
          ]
        }
      ]
    },
    {
      "cell_type": "code",
      "metadata": {
        "id": "zU04SII65VNZ",
        "outputId": "6bff833a-fbaf-4b11-b20a-24e266883b99",
        "colab": {
          "base_uri": "https://localhost:8080/"
        }
      },
      "source": [
        "import tensorflow as tf\n",
        "print(tf.config.list_physical_devices('GPU'))  # Nếu [] thì không có GPU\n"
      ],
      "execution_count": 3,
      "outputs": [
        {
          "output_type": "stream",
          "name": "stdout",
          "text": [
            "[PhysicalDevice(name='/physical_device:GPU:0', device_type='GPU')]\n"
          ]
        }
      ]
    },
    {
      "cell_type": "code",
      "source": [
        "import torch\n",
        "print(torch.cuda.is_available())  # Nếu trả về False thì GPU không khả dụng\n",
        "print(torch.cuda.device_count())  # Số lượng GPU khả dụng\n"
      ],
      "metadata": {
        "id": "2hXUrDsA3Mhs",
        "outputId": "bdd1e084-5a1e-45f9-d955-a78edaac0e45",
        "colab": {
          "base_uri": "https://localhost:8080/"
        }
      },
      "execution_count": 5,
      "outputs": [
        {
          "output_type": "stream",
          "name": "stdout",
          "text": [
            "True\n",
            "1\n"
          ]
        }
      ]
    },
    {
      "cell_type": "code",
      "source": [
        "import torch\n",
        "\n",
        "# Kiểm tra xem có GPU không\n",
        "device = torch.device(\"cuda\" if torch.cuda.is_available() else \"cpu\")\n",
        "\n",
        "# Tạo tensor và đẩy lên GPU\n",
        "x = torch.randn(10000, 10000).to(device)\n",
        "\n",
        "# Kiểm tra lại RAM GPU sau khi cấp phát\n",
        "!nvidia-smi\n"
      ],
      "metadata": {
        "id": "hWT2TMZ_3964",
        "outputId": "088dec93-3497-4d7b-88e9-4c737ae8b608",
        "colab": {
          "base_uri": "https://localhost:8080/"
        }
      },
      "execution_count": 6,
      "outputs": [
        {
          "output_type": "stream",
          "name": "stdout",
          "text": [
            "Thu Feb 27 14:46:53 2025       \n",
            "+-----------------------------------------------------------------------------------------+\n",
            "| NVIDIA-SMI 550.54.15              Driver Version: 550.54.15      CUDA Version: 12.4     |\n",
            "|-----------------------------------------+------------------------+----------------------+\n",
            "| GPU  Name                 Persistence-M | Bus-Id          Disp.A | Volatile Uncorr. ECC |\n",
            "| Fan  Temp   Perf          Pwr:Usage/Cap |           Memory-Usage | GPU-Util  Compute M. |\n",
            "|                                         |                        |               MIG M. |\n",
            "|=========================================+========================+======================|\n",
            "|   0  Tesla T4                       Off |   00000000:00:04.0 Off |                    0 |\n",
            "| N/A   45C    P0             27W /   70W |     484MiB /  15360MiB |      7%      Default |\n",
            "|                                         |                        |                  N/A |\n",
            "+-----------------------------------------+------------------------+----------------------+\n",
            "                                                                                         \n",
            "+-----------------------------------------------------------------------------------------+\n",
            "| Processes:                                                                              |\n",
            "|  GPU   GI   CI        PID   Type   Process name                              GPU Memory |\n",
            "|        ID   ID                                                               Usage      |\n",
            "|=========================================================================================|\n",
            "+-----------------------------------------------------------------------------------------+\n"
          ]
        }
      ]
    }
  ]
}